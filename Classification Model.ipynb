{
 "cells": [
  {
   "cell_type": "code",
   "execution_count": 1,
   "metadata": {},
   "outputs": [],
   "source": [
    "from sklearn.ensemble import RandomForestClassifier"
   ]
  },
  {
   "cell_type": "code",
   "execution_count": 2,
   "metadata": {},
   "outputs": [],
   "source": [
    "from sklearn.tree import DecisionTreeClassifier"
   ]
  },
  {
   "cell_type": "code",
   "execution_count": 3,
   "metadata": {},
   "outputs": [],
   "source": [
    "from sklearn.metrics import confusion_matrix"
   ]
  },
  {
   "cell_type": "code",
   "execution_count": 4,
   "metadata": {},
   "outputs": [],
   "source": [
    "import numpy as np \n",
    "import pandas as pd"
   ]
  },
  {
   "cell_type": "code",
   "execution_count": 5,
   "metadata": {},
   "outputs": [],
   "source": [
    "df = pd.read_csv(\"DS_DATESET.csv\", delimiter=\",\")"
   ]
  },
  {
   "cell_type": "markdown",
   "metadata": {},
   "source": [
    " ### Dropping unnecessary columns"
   ]
  },
  {
   "cell_type": "code",
   "execution_count": 6,
   "metadata": {},
   "outputs": [],
   "source": [
    "df=df.drop([\"ID\",\"First Name\",\"Last Name\",\"State\",\"Zip Code\",\"DOB [DD/MM/YYYY]\",\"Email Address\",\"Contact Number\",\"Emergency Contact Number\"],axis=1)"
   ]
  },
  {
   "cell_type": "code",
   "execution_count": 7,
   "metadata": {},
   "outputs": [],
   "source": [
    "df=df.drop([\"University Name\",\"Degree\",\"Course Type\",\"Expected Graduation-year\",\"Current Employment Status\",\"Knowing of Python\",\"Certifications/Achievement/ Research papers\",\"Link to updated Resume (Google/ One Drive link preferred)\",\"link to Linkedin profile\"],axis=1)"
   ]
  },
  {
   "cell_type": "markdown",
   "metadata": {},
   "source": [
    "### Preprosessing"
   ]
  },
  {
   "cell_type": "code",
   "execution_count": 8,
   "metadata": {},
   "outputs": [],
   "source": [
    "df1=df.drop([\"Label\"],axis=1)"
   ]
  },
  {
   "cell_type": "code",
   "execution_count": 9,
   "metadata": {},
   "outputs": [],
   "source": [
    "X = df1.values"
   ]
  },
  {
   "cell_type": "code",
   "execution_count": 10,
   "metadata": {},
   "outputs": [],
   "source": [
    "df1.rename(columns = {\"College name\":\"College\",\"Major/Area of Study\":\"Department\",\"Which-year are you studying in?\":\"Year\",\"CGPA/ percentage\":\"CGPA\",\"Areas of interest\":\"Interest\",\"Have you worked core Java\":\"KnowingJava\",\"Programming Language Known other than Java (one major)\":\"OtherLangauge\",\"Have you worked on MySQL or Oracle database\":\"KnowingSQL\",\"Have you studied OOP Concepts\":\"KnowingOOP\",\"Rate your written communication skills [1-10]\":\"WrittenSkills\",\"Rate your verbal communication skills [1-10]\":\"VerbalSkills\",\"How Did You Hear About This Internship?\":\"Source\"}, inplace = True) "
   ]
  },
  {
   "cell_type": "markdown",
   "metadata": {},
   "source": [
    "### Convert categorical variable into dummy/indicator variables"
   ]
  },
  {
   "cell_type": "code",
   "execution_count": 11,
   "metadata": {},
   "outputs": [],
   "source": [
    "from sklearn import preprocessing\n",
    "le_City = preprocessing.LabelEncoder()\n",
    "le_City.fit([\"Kolhapur\",\"Mumbai\",\"NaviMumbai\",\"Pune\",\"Sangli\",\"Solapur\"])\n",
    "X[:,0] = le_City.transform(X[:,0]) \n",
    "\n",
    "\n",
    "le_Gender = preprocessing.LabelEncoder()\n",
    "le_Gender.fit([\"Male\",\"Female\"])\n",
    "X[:,2] = le_Gender.transform(X[:,2])\n",
    "\n",
    "\n",
    "le_College = preprocessing.LabelEncoder()\n",
    "le_College.fit([\"DY Patil College of Engineering And Technology\",\"Vishwakarma Institute of Information Technology\",\"Vidyalankar Institute of Technology\",\"Brahmdevdada Mane Institute of Technology\",\"Rajarambapu Institute of Technology\",\"Skn Sinhgad College of Engineering\",\"Bharati Vidyapeeth College of Engineering\",\"St. Francis Institute of Technology\",\"Pillai College of Engineering\",\"Ramrao Adik Institute of Technology\",\"A. C. Patil College of Engineering\",\"Sinhgad College of Engineering\",\"Bharat Ratna Indira Gandhi College of Engineering\",\"K. J. Somaiya College of Engineering\",\"Thakur College Of Engineering And Technology\",\"Walchand Institute of Technology\",\"Karamveer Bhauro Patil College\",\"Jayawantrao Sawant College of Engineering\",\"Pune Institute of Computer Technology\",\"Rizvi College of Engineering\",\"Mahatma Gandhi Mission's College of Engineering And Technology\",\"D. Y. Patil College of Engineering\",\"Thadomal Shahani Engineering College\",\"Rajiv Gandhi Institute of Technology\",\"Xavier Institute of Engineering\"])\n",
    "X[:,3] = le_College.transform(X[:,3]) \n",
    "\n",
    "le_Department = preprocessing.LabelEncoder()\n",
    "le_Department.fit([\"Electrical Engineering\",\"Electronics and Telecommunication\",\"Computer Engineering\"])\n",
    "X[:,4] = le_Department.transform(X[:,4])\n",
    "\n",
    "le_Year = preprocessing.LabelEncoder()\n",
    "le_Year.fit([\"First-year\",\"Second-year\",\"Third-year\",\"Fourth-year\"])\n",
    "X[:,5] = le_Year.transform(X[:,5])\n",
    "\n",
    "le_Interest = preprocessing.LabelEncoder()\n",
    "le_Interest.fit([\"Artificial Intelligence \",\"Big Data \",\"Blockchain \",\"Cloud Computing \",\"Cyber Security \",\"Data Science \",\"DevOps \",\"Digital Marketing \",\"Information Security\",\"IoT \",\"Machine Learning\",\"Mobility\",\"Python \",\"QMS/Testing \",\"RPA \",\"Web Development \"])\n",
    "X[:,7] = le_Interest.transform(X[:,7])\n",
    "\n",
    "le_KnowingJava = preprocessing.LabelEncoder()\n",
    "le_KnowingJava.fit([\"Yes\",\"No\"])\n",
    "X[:,8] = le_KnowingJava.transform(X[:,8])\n",
    "\n",
    "le_OtherLangauge = preprocessing.LabelEncoder()\n",
    "le_OtherLangauge.fit([\"HTML/CSS\",\"PHP\",\"C\",\"Python\",\"C++\",\".Net\",\"JavaScript\",\"C#\"])\n",
    "X[:,9] = le_OtherLangauge.transform(X[:,9])\n",
    "\n",
    "le_KnowingSQL = preprocessing.LabelEncoder()\n",
    "le_KnowingSQL.fit([\"Yes\",\"No\"])\n",
    "X[:,10] = le_KnowingSQL.transform(X[:,10])\n",
    "\n",
    "le_KnowingOOP = preprocessing.LabelEncoder()\n",
    "le_KnowingOOP.fit([\"Yes\",\"No\"])\n",
    "X[:,11] = le_KnowingOOP.transform(X[:,11])\n",
    "\n",
    "le_Source = preprocessing.LabelEncoder()\n",
    "le_Source.fit([\"Twitter\",\"Ex/Current Employee\",\"Facebook\",\"Newspaper\",\"Other\",\"Blog post\",\"Intern\",\"LinkedIn\",\"Friend\"])\n",
    "X[:,14] = le_Source.transform(X[:,14])\n"
   ]
  },
  {
   "cell_type": "code",
   "execution_count": 12,
   "metadata": {
    "scrolled": true
   },
   "outputs": [],
   "source": [
    "y = df[\"Label\"]\n"
   ]
  },
  {
   "cell_type": "code",
   "execution_count": 13,
   "metadata": {},
   "outputs": [],
   "source": [
    "from sklearn.model_selection import train_test_split"
   ]
  },
  {
   "cell_type": "code",
   "execution_count": 14,
   "metadata": {},
   "outputs": [],
   "source": [
    "X_trainset, X_testset, y_trainset, y_testset = train_test_split(X, y, test_size=0.3, random_state=0)"
   ]
  },
  {
   "cell_type": "code",
   "execution_count": 15,
   "metadata": {},
   "outputs": [],
   "source": [
    "LabelRandom = RandomForestClassifier(n_estimators=1)"
   ]
  },
  {
   "cell_type": "code",
   "execution_count": 16,
   "metadata": {},
   "outputs": [
    {
     "data": {
      "text/plain": [
       "RandomForestClassifier(n_estimators=1)"
      ]
     },
     "execution_count": 16,
     "metadata": {},
     "output_type": "execute_result"
    }
   ],
   "source": [
    "LabelRandom.fit(X_trainset,y_trainset)"
   ]
  },
  {
   "cell_type": "markdown",
   "metadata": {},
   "source": [
    "### Prediction"
   ]
  },
  {
   "cell_type": "code",
   "execution_count": 17,
   "metadata": {},
   "outputs": [],
   "source": [
    "predTree = LabelRandom.predict(X_testset)"
   ]
  },
  {
   "cell_type": "code",
   "execution_count": 18,
   "metadata": {
    "scrolled": true
   },
   "outputs": [
    {
     "name": "stdout",
     "output_type": "stream",
     "text": [
      "RandomForest's Accuracy:  0.9773333333333334\n"
     ]
    }
   ],
   "source": [
    "from sklearn import metrics\n",
    "import matplotlib.pyplot as plt\n",
    "print(\"RandomForest's Accuracy: \", metrics.accuracy_score(y_testset, predTree))"
   ]
  },
  {
   "cell_type": "markdown",
   "metadata": {},
   "source": [
    "### Confusion Matrix"
   ]
  },
  {
   "cell_type": "code",
   "execution_count": 33,
   "metadata": {},
   "outputs": [],
   "source": [
    "cm=confusion_matrix(y_testset, predTree)"
   ]
  },
  {
   "cell_type": "code",
   "execution_count": 32,
   "metadata": {
    "scrolled": true
   },
   "outputs": [
    {
     "data": {
      "text/plain": [
       "array(['ineligible', 'eligible', 'ineligible', ..., 'eligible',\n",
       "       'eligible', 'eligible'], dtype=object)"
      ]
     },
     "execution_count": 32,
     "metadata": {},
     "output_type": "execute_result"
    }
   ],
   "source": [
    "y_testset=np.array(y_testset)"
   ]
  },
  {
   "cell_type": "markdown",
   "metadata": {},
   "source": [
    "### F1 Score"
   ]
  },
  {
   "cell_type": "code",
   "execution_count": 21,
   "metadata": {},
   "outputs": [],
   "source": [
    "from sklearn.metrics import f1_score"
   ]
  },
  {
   "cell_type": "code",
   "execution_count": 43,
   "metadata": {},
   "outputs": [
    {
     "data": {
      "text/plain": [
       "0.9707401032702238"
      ]
     },
     "execution_count": 43,
     "metadata": {},
     "output_type": "execute_result"
    }
   ],
   "source": [
    "metrics.f1_score(y_testset, predTree,pos_label=\"eligible\")"
   ]
  },
  {
   "cell_type": "code",
   "execution_count": null,
   "metadata": {},
   "outputs": [],
   "source": []
  }
 ],
 "metadata": {
  "kernelspec": {
   "display_name": "Python 3",
   "language": "python",
   "name": "python3"
  },
  "language_info": {
   "codemirror_mode": {
    "name": "ipython",
    "version": 3
   },
   "file_extension": ".py",
   "mimetype": "text/x-python",
   "name": "python",
   "nbconvert_exporter": "python",
   "pygments_lexer": "ipython3",
   "version": "3.8.4"
  }
 },
 "nbformat": 4,
 "nbformat_minor": 4
}
